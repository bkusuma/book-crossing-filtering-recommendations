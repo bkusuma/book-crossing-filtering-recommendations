{
 "cells": [
  {
   "cell_type": "code",
   "execution_count": 1,
   "id": "53e81bca",
   "metadata": {},
   "outputs": [
    {
     "name": "stdout",
     "output_type": "stream",
     "text": [
      "Requirement already satisfied: cookiecutter-data-science in /opt/anaconda3/envs/datascience/lib/python3.12/site-packages (2.2.0)\n",
      "Requirement already satisfied: click in /opt/anaconda3/envs/datascience/lib/python3.12/site-packages (from cookiecutter-data-science) (8.1.7)\n",
      "Requirement already satisfied: cookiecutter in /opt/anaconda3/envs/datascience/lib/python3.12/site-packages (from cookiecutter-data-science) (2.6.0)\n",
      "Requirement already satisfied: tomlkit in /opt/anaconda3/envs/datascience/lib/python3.12/site-packages (from cookiecutter-data-science) (0.13.2)\n",
      "Requirement already satisfied: binaryornot>=0.4.4 in /opt/anaconda3/envs/datascience/lib/python3.12/site-packages (from cookiecutter->cookiecutter-data-science) (0.4.4)\n",
      "Requirement already satisfied: Jinja2<4.0.0,>=2.7 in /opt/anaconda3/envs/datascience/lib/python3.12/site-packages (from cookiecutter->cookiecutter-data-science) (3.1.6)\n",
      "Requirement already satisfied: pyyaml>=5.3.1 in /opt/anaconda3/envs/datascience/lib/python3.12/site-packages (from cookiecutter->cookiecutter-data-science) (6.0.2)\n",
      "Requirement already satisfied: python-slugify>=4.0.0 in /opt/anaconda3/envs/datascience/lib/python3.12/site-packages (from cookiecutter->cookiecutter-data-science) (8.0.4)\n",
      "Requirement already satisfied: requests>=2.23.0 in /opt/anaconda3/envs/datascience/lib/python3.12/site-packages (from cookiecutter->cookiecutter-data-science) (2.32.3)\n",
      "Requirement already satisfied: arrow in /opt/anaconda3/envs/datascience/lib/python3.12/site-packages (from cookiecutter->cookiecutter-data-science) (1.3.0)\n",
      "Requirement already satisfied: rich in /opt/anaconda3/envs/datascience/lib/python3.12/site-packages (from cookiecutter->cookiecutter-data-science) (14.0.0)\n",
      "Requirement already satisfied: chardet>=3.0.2 in /opt/anaconda3/envs/datascience/lib/python3.12/site-packages (from binaryornot>=0.4.4->cookiecutter->cookiecutter-data-science) (5.2.0)\n",
      "Requirement already satisfied: MarkupSafe>=2.0 in /opt/anaconda3/envs/datascience/lib/python3.12/site-packages (from Jinja2<4.0.0,>=2.7->cookiecutter->cookiecutter-data-science) (3.0.2)\n",
      "Requirement already satisfied: text-unidecode>=1.3 in /opt/anaconda3/envs/datascience/lib/python3.12/site-packages (from python-slugify>=4.0.0->cookiecutter->cookiecutter-data-science) (1.3)\n",
      "Requirement already satisfied: charset-normalizer<4,>=2 in /opt/anaconda3/envs/datascience/lib/python3.12/site-packages (from requests>=2.23.0->cookiecutter->cookiecutter-data-science) (3.3.2)\n",
      "Requirement already satisfied: idna<4,>=2.5 in /opt/anaconda3/envs/datascience/lib/python3.12/site-packages (from requests>=2.23.0->cookiecutter->cookiecutter-data-science) (3.7)\n",
      "Requirement already satisfied: urllib3<3,>=1.21.1 in /opt/anaconda3/envs/datascience/lib/python3.12/site-packages (from requests>=2.23.0->cookiecutter->cookiecutter-data-science) (2.3.0)\n",
      "Requirement already satisfied: certifi>=2017.4.17 in /opt/anaconda3/envs/datascience/lib/python3.12/site-packages (from requests>=2.23.0->cookiecutter->cookiecutter-data-science) (2025.1.31)\n",
      "Requirement already satisfied: python-dateutil>=2.7.0 in /opt/anaconda3/envs/datascience/lib/python3.12/site-packages (from arrow->cookiecutter->cookiecutter-data-science) (2.9.0.post0)\n",
      "Requirement already satisfied: types-python-dateutil>=2.8.10 in /opt/anaconda3/envs/datascience/lib/python3.12/site-packages (from arrow->cookiecutter->cookiecutter-data-science) (2.9.0.20241206)\n",
      "Requirement already satisfied: markdown-it-py>=2.2.0 in /opt/anaconda3/envs/datascience/lib/python3.12/site-packages (from rich->cookiecutter->cookiecutter-data-science) (3.0.0)\n",
      "Requirement already satisfied: pygments<3.0.0,>=2.13.0 in /opt/anaconda3/envs/datascience/lib/python3.12/site-packages (from rich->cookiecutter->cookiecutter-data-science) (2.19.1)\n",
      "Requirement already satisfied: mdurl~=0.1 in /opt/anaconda3/envs/datascience/lib/python3.12/site-packages (from markdown-it-py>=2.2.0->rich->cookiecutter->cookiecutter-data-science) (0.1.2)\n",
      "Requirement already satisfied: six>=1.5 in /opt/anaconda3/envs/datascience/lib/python3.12/site-packages (from python-dateutil>=2.7.0->arrow->cookiecutter->cookiecutter-data-science) (1.16.0)\n",
      "Note: you may need to restart the kernel to use updated packages.\n"
     ]
    }
   ],
   "source": [
    "%pip install cookiecutter-data-science"
   ]
  },
  {
   "cell_type": "code",
   "execution_count": 3,
   "id": "d5cc9bfa",
   "metadata": {},
   "outputs": [],
   "source": [
    "import ccds"
   ]
  }
 ],
 "metadata": {
  "kernelspec": {
   "display_name": "datascience",
   "language": "python",
   "name": "python3"
  },
  "language_info": {
   "codemirror_mode": {
    "name": "ipython",
    "version": 3
   },
   "file_extension": ".py",
   "mimetype": "text/x-python",
   "name": "python",
   "nbconvert_exporter": "python",
   "pygments_lexer": "ipython3",
   "version": "3.12.2"
  }
 },
 "nbformat": 4,
 "nbformat_minor": 5
}
